{
 "cells": [
  {
   "cell_type": "code",
   "execution_count": 26,
   "metadata": {},
   "outputs": [
    {
     "name": "stdout",
     "output_type": "stream",
     "text": [
      "<class 'pandas.core.frame.DataFrame'>\n",
      "RangeIndex: 891 entries, 0 to 890\n",
      "Data columns (total 8 columns):\n",
      " #   Column    Non-Null Count  Dtype  \n",
      "---  ------    --------------  -----  \n",
      " 0   Survived  891 non-null    object \n",
      " 1   Pclass    891 non-null    int64  \n",
      " 2   Sex       891 non-null    object \n",
      " 3   Age       891 non-null    float64\n",
      " 4   SibSp     891 non-null    int64  \n",
      " 5   Parch     891 non-null    int64  \n",
      " 6   Fare      891 non-null    float64\n",
      " 7   Embarked  889 non-null    object \n",
      "dtypes: float64(2), int64(3), object(3)\n",
      "memory usage: 55.8+ KB\n"
     ]
    }
   ],
   "source": [
    "from sklearn import datasets\n",
    "import pandas as pd\n",
    "from sklearn.model_selection import train_test_split\n",
    "from sklearn.ensemble import RandomForestClassifier #Importing Random Forest Classifier\n",
    "from sklearn.tree import DecisionTreeClassifier\n",
    "from sklearn import metrics  # Importing metrics to test accuracy\n",
    "from sklearn.model_selection import train_test_split\n",
    "from sklearn.utils import resample\n",
    "\n",
    "df = pd.read_csv(\"titanic-passengers.csv\", sep=\";\")\n",
    "# Preprocessing the data\n",
    "# Replacing null age with mean\n",
    "df['Age'].fillna((df['Age'].median()), inplace=True)\n",
    "\n",
    "# Dropping Cabin coulmn since most of it is blank\n",
    "df.drop(['Cabin'], axis = 1, inplace=True)\n",
    "df['Fare'] = df['Fare'].round(0) \n",
    "#df = pd.get_dummies(df, columns =['Sex','Pclass', 'Survived', 'Embarked'], drop_first=True)\n",
    "\n",
    "df.drop(['Name'], axis = 1, inplace=True)\n",
    "df.drop(['Ticket'], axis = 1, inplace=True)\n",
    "df.drop(['PassengerId'], axis = 1, inplace=True)\n",
    "df.info()\n"
   ]
  },
  {
   "cell_type": "code",
   "execution_count": 27,
   "metadata": {},
   "outputs": [],
   "source": [
    "from sklearn.preprocessing import LabelEncoder\n",
    "data=pd.DataFrame({\n",
    "'Age': df['Age'],\n",
    "'Sex': df['Sex'],\n",
    "'Class': df['Pclass'],\n",
    "'Survived': df['Survived']\n",
    "})\n",
    "\n",
    "encode = LabelEncoder()\n",
    "data[\"Sex\"] = encode.fit_transform(data[\"Sex\"])\n",
    "X=data[['Age', \"Sex\", \"Class\"]] #features\n",
    "y=data['Survived']  #target\n",
    "x_train, x_test, y_train, y_test= train_test_split(X, y, test_size=0.3) "
   ]
  },
  {
   "cell_type": "code",
   "execution_count": 24,
   "metadata": {},
   "outputs": [
    {
     "name": "stdout",
     "output_type": "stream",
     "text": [
      "Accuracy: 0.7910447761194029\n"
     ]
    }
   ],
   "source": [
    "clf=RandomForestClassifier(n_estimators=10)  #Creating a random forest with 100 decision trees\n",
    "clf.fit(x_train, y_train)  #Training our model\n",
    "y_pred=clf.predict(x_test)  #testing our model\n",
    "print(\"Accuracy:\", metrics.accuracy_score(y_test, y_pred))  #Measuring the accuracy of our model"
   ]
  },
  {
   "cell_type": "code",
   "execution_count": 28,
   "metadata": {},
   "outputs": [
    {
     "name": "stdout",
     "output_type": "stream",
     "text": [
      "Accuracy: 0.7761194029850746\n"
     ]
    }
   ],
   "source": [
    "clf = DecisionTreeClassifier(random_state=0)\n",
    "clf.fit(x_train, y_train)  #Training our model\n",
    "y_pred=clf.predict(x_test)  #testing our model\n",
    "print(\"Accuracy:\", metrics.accuracy_score(y_test, y_pred))  #Measuring the accuracy of our model"
   ]
  }
 ],
 "metadata": {
  "interpreter": {
   "hash": "5440eb285807f6a6b5f27adaaa467ca1e98fbe8f986bb43ce029c634c16c726f"
  },
  "kernelspec": {
   "display_name": "Python 3.10.2 64-bit (windows store)",
   "language": "python",
   "name": "python3"
  },
  "language_info": {
   "codemirror_mode": {
    "name": "ipython",
    "version": 3
   },
   "file_extension": ".py",
   "mimetype": "text/x-python",
   "name": "python",
   "nbconvert_exporter": "python",
   "pygments_lexer": "ipython3",
   "version": "3.10.2"
  },
  "orig_nbformat": 4
 },
 "nbformat": 4,
 "nbformat_minor": 2
}
